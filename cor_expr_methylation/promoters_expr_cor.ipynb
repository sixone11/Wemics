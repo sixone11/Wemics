{
 "cells": [
  {
   "cell_type": "code",
   "execution_count": 1,
   "metadata": {},
   "outputs": [
    {
     "name": "stderr",
     "output_type": "stream",
     "text": [
      "Warning message:\n",
      "“replacing previous import ‘Biostrings::pattern’ by ‘grid::pattern’ when loading ‘genomation’”\n"
     ]
    }
   ],
   "source": [
    "packages <- c(\"genomation\",\"GenomicFeatures\",\"glue\",\"dplyr\",\"Hmisc\",\"GenomicRanges\")\n",
    "packageswarning <- sapply(packages,function(x){suppressMessages(library(x,character.only=TRUE))})\n",
    "################################\n",
    "findoverlapsin2grs <- function(first.gr,second.gr){\n",
    "\thits <- findOverlaps(first.gr, second.gr,ignore.strand=TRUE)\n",
    "\tresult <- data.frame(first.gr[queryHits(hits)],second.gr[subjectHits(hits)])\n",
    "  return(result)\n",
    "}"
   ]
  },
  {
   "cell_type": "code",
   "execution_count": 2,
   "metadata": {},
   "outputs": [],
   "source": [
    "promoters <- readRDS(\"promoters.gr.rds\")\n",
    "abund.df  <- readRDS(\"abund.df.rds\")\n",
    "genes_id_name <- readRDS(\"genes_id_name.rds\")"
   ]
  },
  {
   "cell_type": "code",
   "execution_count": 3,
   "metadata": {},
   "outputs": [],
   "source": [
    "log2_1 <- function(x){log2(x+1)}\n",
    "# cal mean\n",
    "mean_rmna <- function(x){mean(x,na.rm=TRUE)}\n",
    "# in samples, corss genes\n",
    "cal_matrix_cor_samples <- function(col,abund.df,overlap.samples.genemean.df){\n",
    "    matrix <- na.omit(as.matrix(cbind(abund.df[,\"FPKM\"] %>% as.numeric,\n",
    "                       overlap.samples.genemean.df[,col]%>% as.numeric) \n",
    "                       %>% na_if(-Inf)))\n",
    "    genessnum <- nrow(matrix)\n",
    "    if(genessnum <= 4) return(NULL)\n",
    "    pearson <- rcorr(matrix,type=\"pearson\")\n",
    "    spearman <- rcorr(matrix,type=\"spearman\")\n",
    "    result <- cbind(methods=colnames(overlap.samples.genemean.df)[col],\n",
    "          pearson=pearson$r[-1,1],\n",
    "          spearman=spearman$r[-1,1],\n",
    "          pearson_p=pearson$P[-1,1],\n",
    "          spearman_p=spearman$P[-1,1])\n",
    "    return(result)\n",
    "}"
   ]
  },
  {
   "cell_type": "code",
   "execution_count": 4,
   "metadata": {},
   "outputs": [],
   "source": [
    "cal_cor <- function(abund.df,overlap.samples.genemean.df,gene,method){\n",
    "    abund.index <- match(genes_id_name$ref_gene_id[match(overlap.samples.genemean.df %>% pull(GENEID),genes_id_name$GENEID)],\n",
    "    abund.df %>% pull(GENEID)) \n",
    "    abund.df <- abund.df[abund.index,]\n",
    "    results.list <- lapply(2:ncol(overlap.samples.genemean.df),cal_matrix_cor_samples,abund.df=abund.df,\n",
    "        overlap.samples.genemean.df=overlap.samples.genemean.df)\n",
    "     results.df <- do.call(rbind,results.list) %>% data.frame %>% \n",
    "    mutate_at(c(\"pearson\",\"spearman\",\"pearson_p\",\"spearman_p\"),as.numeric) %>% \n",
    "    dplyr::select(c(\"methods\",\"pearson\",\"spearman\",\"pearson_p\",\"spearman_p\"))\n",
    "}\n",
    "\n",
    "run_cal_cor <- function(norm_method,overlap.samples.genemean.df){\n",
    "    # abund normalization\n",
    "    if(norm_method==\"log2_1\"){\n",
    "        abund.df <- abund.df %>% mutate_if(is.numeric,log2_1)\n",
    "    }else{\n",
    "    \t # not normlize\n",
    "    \t abund.df <- abund.df\n",
    "    }\n",
    "    # calculate\n",
    "    results.df <- cal_cor(abund.df=abund.df,overlap.samples.genemean.df=overlap.samples.genemean.df) #%>% na_if(-Inf) %>% na_if(Inf)\n",
    "    return(results.df)\n",
    "}   "
   ]
  },
  {
   "cell_type": "code",
   "execution_count": 5,
   "metadata": {},
   "outputs": [],
   "source": [
    "methods <- c(\"CAMDA\",\"CHALM\",\"Meanm\",\"Wemics\")\n",
    "data.gr <- readRDS(\"example.gr.rds\")\n",
    "overlap.samples.df <- findoverlapsin2grs(promoters,data.gr)\n",
    "overlap.samples.genemean.df <- \n",
    "    overlap.samples.df %>% \n",
    "    dplyr::select(GENEID,all_of(methods)) %>% \n",
    "    group_by(GENEID) %>% \n",
    "    summarise_all(mean_rmna) %>% ungroup %>% data.frame\n",
    "################################\n",
    "sample_results <- run_cal_cor(norm_method=\"log2_1\",overlap.samples.genemean.df=overlap.samples.genemean.df)\n"
   ]
  },
  {
   "cell_type": "code",
   "execution_count": 6,
   "metadata": {},
   "outputs": [
    {
     "data": {
      "text/html": [
       "<table class=\"dataframe\">\n",
       "<caption>A data.frame: 4 × 5</caption>\n",
       "<thead>\n",
       "\t<tr><th scope=col>methods</th><th scope=col>pearson</th><th scope=col>spearman</th><th scope=col>pearson_p</th><th scope=col>spearman_p</th></tr>\n",
       "\t<tr><th scope=col>&lt;chr&gt;</th><th scope=col>&lt;dbl&gt;</th><th scope=col>&lt;dbl&gt;</th><th scope=col>&lt;dbl&gt;</th><th scope=col>&lt;dbl&gt;</th></tr>\n",
       "</thead>\n",
       "<tbody>\n",
       "\t<tr><td>CAMDA </td><td>-0.3375031</td><td>-0.3761615</td><td>0</td><td>0</td></tr>\n",
       "\t<tr><td>CHALM </td><td>-0.5027113</td><td>-0.5623298</td><td>0</td><td>0</td></tr>\n",
       "\t<tr><td>Meanm </td><td>-0.4676377</td><td>-0.5391129</td><td>0</td><td>0</td></tr>\n",
       "\t<tr><td>Wemics</td><td>-0.5454676</td><td>-0.5752751</td><td>0</td><td>0</td></tr>\n",
       "</tbody>\n",
       "</table>\n"
      ],
      "text/latex": [
       "A data.frame: 4 × 5\n",
       "\\begin{tabular}{lllll}\n",
       " methods & pearson & spearman & pearson\\_p & spearman\\_p\\\\\n",
       " <chr> & <dbl> & <dbl> & <dbl> & <dbl>\\\\\n",
       "\\hline\n",
       "\t CAMDA  & -0.3375031 & -0.3761615 & 0 & 0\\\\\n",
       "\t CHALM  & -0.5027113 & -0.5623298 & 0 & 0\\\\\n",
       "\t Meanm  & -0.4676377 & -0.5391129 & 0 & 0\\\\\n",
       "\t Wemics & -0.5454676 & -0.5752751 & 0 & 0\\\\\n",
       "\\end{tabular}\n"
      ],
      "text/markdown": [
       "\n",
       "A data.frame: 4 × 5\n",
       "\n",
       "| methods &lt;chr&gt; | pearson &lt;dbl&gt; | spearman &lt;dbl&gt; | pearson_p &lt;dbl&gt; | spearman_p &lt;dbl&gt; |\n",
       "|---|---|---|---|---|\n",
       "| CAMDA  | -0.3375031 | -0.3761615 | 0 | 0 |\n",
       "| CHALM  | -0.5027113 | -0.5623298 | 0 | 0 |\n",
       "| Meanm  | -0.4676377 | -0.5391129 | 0 | 0 |\n",
       "| Wemics | -0.5454676 | -0.5752751 | 0 | 0 |\n",
       "\n"
      ],
      "text/plain": [
       "  methods pearson    spearman   pearson_p spearman_p\n",
       "1 CAMDA   -0.3375031 -0.3761615 0         0         \n",
       "2 CHALM   -0.5027113 -0.5623298 0         0         \n",
       "3 Meanm   -0.4676377 -0.5391129 0         0         \n",
       "4 Wemics  -0.5454676 -0.5752751 0         0         "
      ]
     },
     "metadata": {},
     "output_type": "display_data"
    }
   ],
   "source": [
    "sample_results"
   ]
  },
  {
   "cell_type": "code",
   "execution_count": null,
   "metadata": {},
   "outputs": [],
   "source": []
  }
 ],
 "metadata": {
  "kernelspec": {
   "display_name": "R-4.3.1",
   "language": "R",
   "name": "irr4.3.1"
  },
  "language_info": {
   "codemirror_mode": "r",
   "file_extension": ".r",
   "mimetype": "text/x-r-source",
   "name": "R",
   "pygments_lexer": "r",
   "version": "4.3.1"
  }
 },
 "nbformat": 4,
 "nbformat_minor": 4
}
